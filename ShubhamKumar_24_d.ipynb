{
  "nbformat": 4,
  "nbformat_minor": 0,
  "metadata": {
    "colab": {
      "provenance": []
    },
    "kernelspec": {
      "name": "python3",
      "display_name": "Python 3"
    },
    "language_info": {
      "name": "python"
    }
  },
  "cells": [
    {
      "cell_type": "code",
      "source": [
        "import pandas as pd\n",
        "import matplotlib.pyplot as plt\n",
        "import seaborn as sns\n",
        "from sklearn.ensemble import RandomForestClassifier\n",
        "from sklearn.model_selection import train_test_split\n",
        "from sklearn.metrics import (\n",
        "    confusion_matrix, accuracy_score, precision_score,\n",
        "    recall_score, f1_score\n",
        ")\n",
        "\n",
        "# === Step 1: Load and Clean the Dataset ===\n",
        "# If the CSV has corrupted columns due to PDF conversion, fix it here\n",
        "def load_and_fix_csv(path):\n",
        "    raw_df = pd.read_csv(path)\n",
        "    fixed_rows = []\n",
        "\n",
        "    for i in range(len(raw_df)):\n",
        "        row = [str(val) for val in raw_df.iloc[i] if pd.notna(val)]\n",
        "        merged = ' '.join(row).split()\n",
        "        if len(merged) == 14:\n",
        "            fixed_rows.append(merged)\n",
        "\n",
        "    columns = ['age', 'sex', 'cp', 'trestbps', 'chol', 'fbs', 'restecg',\n",
        "               'thalach', 'exang', 'oldpeak', 'slope', 'ca', 'thal', 'target']\n",
        "\n",
        "    df = pd.DataFrame(fixed_rows, columns=columns)\n",
        "    return df.apply(pd.to_numeric)\n",
        "\n",
        "# Replace this with your path\n",
        "df = load_and_fix_csv(\"heart_rate.csv\")\n",
        "\n",
        "# === Step 2: Prepare Features and Target ===\n",
        "X = df.drop(\"target\", axis=1)\n",
        "y = df[\"target\"]\n",
        "\n",
        "# === Step 3: Split and Train ===\n",
        "X_train, X_test, y_train, y_test = train_test_split(X, y, test_size=0.2, random_state=42)\n",
        "clf = RandomForestClassifier(random_state=42)\n",
        "clf.fit(X_train, y_train)\n",
        "y_pred = clf.predict(X_test)\n",
        "\n",
        "# === Step 4: Confusion Matrix Heatmap ===\n",
        "cm = confusion_matrix(y_test, y_pred)\n",
        "plt.figure(figsize=(6, 5))\n",
        "sns.heatmap(cm, annot=True, fmt='d', cmap='Blues')\n",
        "plt.title(\"Confusion Matrix\")\n",
        "plt.xlabel(\"Predicted\")\n",
        "plt.ylabel(\"Actual\")\n",
        "plt.tight_layout()\n",
        "plt.show()\n",
        "\n",
        "# === Step 5: Evaluation Metrics ===\n",
        "accuracy = accuracy_score(y_test, y_pred)\n",
        "precision = precision_score(y_test, y_pred)\n",
        "recall = recall_score(y_test, y_pred)\n",
        "f1 = f1_score(y_test, y_pred)\n",
        "\n",
        "print(f\"Accuracy : {accuracy:.2f}\")\n",
        "print(f\"Precision: {precision:.2f}\")\n",
        "print(f\"Recall   : {recall:.2f}\")\n",
        "print(f\"F1 Score : {f1:.2f}\")\n"
      ],
      "metadata": {
        "colab": {
          "base_uri": "https://localhost:8080/",
          "height": 576
        },
        "id": "0d-j7Wk3GZD6",
        "outputId": "fb49bfae-4576-40c1-8555-58c1b5178542"
      },
      "execution_count": 3,
      "outputs": [
        {
          "output_type": "display_data",
          "data": {
            "text/plain": [
              "<Figure size 600x500 with 2 Axes>"
            ],
            "image/png": "[encoded data removed]"
          },
          "metadata": {}
        },
        {
          "output_type": "stream",
          "name": "stdout",
          "text": [
            "Accuracy : 0.87\n",
            "Precision: 0.90\n",
            "Recall   : 0.84\n",
            "F1 Score : 0.87\n"
          ]
        }
      ]
    }
  ]
}